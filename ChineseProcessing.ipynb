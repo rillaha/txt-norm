{
 "cells": [
  {
   "cell_type": "code",
   "execution_count": 4,
   "metadata": {
    "collapsed": false
   },
   "outputs": [],
   "source": [
    "#simple Chinese sentence segmentation\n",
    "#! /bin/python\n",
    "#-*- coding:utf-8 -*-\n",
    "\n",
    "import re\n",
    "import sys\n",
    "import codecs\n",
    "\n",
    "def readText(text):\n",
    "    sentences = []\n",
    "    for line in text:\n",
    "        line = line.strip()\n",
    "        line = sub(line)\n",
    "        if line != '':\n",
    "            sentences.append(line)\n",
    "    return sentences\n",
    "\n",
    "def sub(text):\n",
    "    rep = {\"/n+\": \"\", \"/s+\": \"\",\"/t+\":\"\"} # define desired replacements here\n",
    "    # use these three lines to do the replacement\n",
    "    rep = dict((re.escape(k), v) for k, v in rep.iteritems())\n",
    "    pattern = re.compile(\"|\".join(rep.keys()))\n",
    "    text = pattern.sub(lambda m: rep[re.escape(m.group(0))], text)\n",
    "    return text\n",
    "\n",
    "def splitText(senlist):\n",
    "    for i in senlist:\n",
    "        split = re.split('(\"。”\")|(\"？”\")|(\"！”\")|(\"？！\")|(\"！？\")|(\"！！！\")|(\"……\")|(\"？？？\")|(\"。\")|(\"？\")|(\"！\")|(\";\")',i)\n",
    "        #print type(split)\n",
    "        print ''.join(split)\n",
    "#f = codecs.open(sys.argv[1])\n",
    "#splitText(readText(f))\n",
    "\n",
    "\n"
   ]
  },
  {
   "cell_type": "code",
   "execution_count": null,
   "metadata": {
    "collapsed": true
   },
   "outputs": [],
   "source": [
    "#split chinese by character\n",
    "#! /bin/python\n",
    "#-*- coding:utf-8 -*-\n",
    "\n",
    "import sys\n",
    "import codecs\n",
    "\n",
    "from re import compile as _Re\n",
    "\n",
    "_unicode_chr_splitter = _Re( '(?s)((?:[\\ud800-\\udbff][\\udc00-\\udfff])|.)' ).split\n",
    "\n",
    "def split_unicode_chrs( text ):\n",
    "    return [ chr for chr in _unicode_chr_splitter( text ) if chr ]\n",
    "\n",
    "def split_to_character(inf):\n",
    "    f = codecs.open(inf,\"r\",encoding=\"utf-8\")\n",
    "    r = codecs.open(\"/home/bear/srilm/liyuwentingyun.unigram\",\"w\",encoding=\"utf-8\")\n",
    "    cl = []\n",
    "    for line in f:\n",
    "        if line != \"\":\n",
    "            line = line.strip()\n",
    "            chr = split_unicode_chrs(line)\n",
    "            print >> r, \" \".join(chr)\n",
    "            cl.append(\" \".join(chr))\n",
    "    #print \" \".join(cl)\n",
    "\n",
    "\n",
    "split_to_character('/home/bear/srilm/liyuwentingyun')"
   ]
  }
 ],
 "metadata": {
  "kernelspec": {
   "display_name": "Python 2",
   "language": "python",
   "name": "python2"
  },
  "language_info": {
   "codemirror_mode": {
    "name": "ipython",
    "version": 2
   },
   "file_extension": ".py",
   "mimetype": "text/x-python",
   "name": "python",
   "nbconvert_exporter": "python",
   "pygments_lexer": "ipython2",
   "version": "2.7.6"
  }
 },
 "nbformat": 4,
 "nbformat_minor": 0
}
